{
 "cells": [
  {
   "cell_type": "code",
   "execution_count": 1,
   "id": "679316e5-2e51-4c94-a6cf-b246ddfeb949",
   "metadata": {},
   "outputs": [],
   "source": [
    "import torch\n",
    "from layers import SemanticPreNormAndAdd, TransformerBlock, FFN"
   ]
  },
  {
   "cell_type": "code",
   "execution_count": 2,
   "id": "a975ffe8-0dbf-45ac-ba07-ec90cc8a8bee",
   "metadata": {},
   "outputs": [],
   "source": [
    "layer = SemanticPreNormAndAdd(d_model=30, sublayer=FFN(geglu=True, d_model=30, hidden_size=45, dropout=0.1))"
   ]
  },
  {
   "cell_type": "code",
   "execution_count": 3,
   "id": "bd4f5401-74c2-4885-b49a-2d6a75858821",
   "metadata": {},
   "outputs": [
    {
     "data": {
      "text/plain": [
       "SemanticPreNormAndAdd(\n",
       "  (norm): RMSNorm()\n",
       "  (sublayer): FFN(\n",
       "    (fc1): Linear(in_features=30, out_features=90, bias=False)\n",
       "    (fc2): Linear(in_features=45, out_features=30, bias=False)\n",
       "    (out_dropout): Dropout(p=0.1, inplace=False)\n",
       "  )\n",
       ")"
      ]
     },
     "execution_count": 3,
     "metadata": {},
     "output_type": "execute_result"
    }
   ],
   "source": [
    "layer.train()"
   ]
  },
  {
   "cell_type": "code",
   "execution_count": 4,
   "id": "d1613c6b-97a8-4c3b-9f20-3c22c44d9a0d",
   "metadata": {},
   "outputs": [
    {
     "data": {
      "text/plain": [
       "[('norm.scale',\n",
       "  Parameter containing:\n",
       "  tensor([1., 1., 1., 1., 1., 1., 1., 1., 1., 1., 1., 1., 1., 1., 1., 1., 1., 1.,\n",
       "          1., 1., 1., 1., 1., 1., 1., 1., 1., 1., 1., 1.], requires_grad=True)),\n",
       " ('sublayer.fc1.weight',\n",
       "  Parameter containing:\n",
       "  tensor([[ 0.1553,  0.1588, -0.1747,  ...,  0.1770, -0.1670, -0.0751],\n",
       "          [ 0.1035,  0.0386, -0.0696,  ..., -0.1045,  0.1550, -0.1367],\n",
       "          [ 0.0041, -0.0762, -0.0558,  ...,  0.0489,  0.0712,  0.0605],\n",
       "          ...,\n",
       "          [ 0.0028, -0.1022, -0.0295,  ...,  0.1614,  0.1368,  0.0609],\n",
       "          [ 0.1475, -0.0549, -0.0198,  ...,  0.0513,  0.0960, -0.1663],\n",
       "          [-0.1048,  0.0464,  0.0373,  ..., -0.0514,  0.0847, -0.0967]],\n",
       "         requires_grad=True)),\n",
       " ('sublayer.fc2.weight',\n",
       "  Parameter containing:\n",
       "  tensor([[ 0.0822,  0.1375,  0.0794,  ..., -0.0433,  0.1055,  0.0614],\n",
       "          [ 0.0612, -0.1440,  0.0596,  ...,  0.1427, -0.0380, -0.0402],\n",
       "          [-0.0832,  0.1072, -0.0992,  ...,  0.0892,  0.0256, -0.1332],\n",
       "          ...,\n",
       "          [-0.0925,  0.0466,  0.0832,  ..., -0.1400,  0.0177, -0.0464],\n",
       "          [-0.1112, -0.1312, -0.0560,  ...,  0.0008,  0.0590, -0.0923],\n",
       "          [ 0.0787,  0.0762,  0.0993,  ..., -0.1459, -0.0314, -0.0466]],\n",
       "         requires_grad=True))]"
      ]
     },
     "execution_count": 4,
     "metadata": {},
     "output_type": "execute_result"
    }
   ],
   "source": [
    "[*layer.named_parameters()]"
   ]
  },
  {
   "cell_type": "code",
   "execution_count": 5,
   "id": "4a370496-967a-44b3-b15b-5c13effcf77d",
   "metadata": {},
   "outputs": [],
   "source": [
    "x = torch.rand(2, 5, 30)"
   ]
  },
  {
   "cell_type": "code",
   "execution_count": 6,
   "id": "5317d495-7c11-41d3-84ca-e761a0151ecf",
   "metadata": {},
   "outputs": [
    {
     "ename": "TypingError",
     "evalue": "Failed in nopython mode pipeline (step: nopython frontend)\nUntyped global name 'chinese_whispers': Cannot determine Numba type of <class 'function'>\n\nFile \"layers.py\", line 141:\n    def graph_clustering(x_cpu):\n        <source elided>\n        # perform graph clustering\n        chinese_whispers(g, weighting=\"top\", iterations=20)\n        ^\n\nDuring: Pass nopython_type_inference",
     "output_type": "error",
     "traceback": [
      "\u001b[31m---------------------------------------------------------------------------\u001b[39m",
      "\u001b[31mTypingError\u001b[39m                               Traceback (most recent call last)",
      "\u001b[36mCell\u001b[39m\u001b[36m \u001b[39m\u001b[32mIn[6]\u001b[39m\u001b[32m, line 1\u001b[39m\n\u001b[32m----> \u001b[39m\u001b[32m1\u001b[39m x_new = \u001b[43mlayer\u001b[49m\u001b[43m(\u001b[49m\u001b[43mx\u001b[49m\u001b[43m)\u001b[49m\n",
      "\u001b[36mFile \u001b[39m\u001b[32m~/mambaforge/envs/pytorch-arc/lib/python3.11/site-packages/torch/nn/modules/module.py:1736\u001b[39m, in \u001b[36mModule._wrapped_call_impl\u001b[39m\u001b[34m(self, *args, **kwargs)\u001b[39m\n\u001b[32m   1734\u001b[39m     \u001b[38;5;28;01mreturn\u001b[39;00m \u001b[38;5;28mself\u001b[39m._compiled_call_impl(*args, **kwargs)  \u001b[38;5;66;03m# type: ignore[misc]\u001b[39;00m\n\u001b[32m   1735\u001b[39m \u001b[38;5;28;01melse\u001b[39;00m:\n\u001b[32m-> \u001b[39m\u001b[32m1736\u001b[39m     \u001b[38;5;28;01mreturn\u001b[39;00m \u001b[38;5;28;43mself\u001b[39;49m\u001b[43m.\u001b[49m\u001b[43m_call_impl\u001b[49m\u001b[43m(\u001b[49m\u001b[43m*\u001b[49m\u001b[43margs\u001b[49m\u001b[43m,\u001b[49m\u001b[43m \u001b[49m\u001b[43m*\u001b[49m\u001b[43m*\u001b[49m\u001b[43mkwargs\u001b[49m\u001b[43m)\u001b[49m\n",
      "\u001b[36mFile \u001b[39m\u001b[32m~/mambaforge/envs/pytorch-arc/lib/python3.11/site-packages/torch/nn/modules/module.py:1747\u001b[39m, in \u001b[36mModule._call_impl\u001b[39m\u001b[34m(self, *args, **kwargs)\u001b[39m\n\u001b[32m   1742\u001b[39m \u001b[38;5;66;03m# If we don't have any hooks, we want to skip the rest of the logic in\u001b[39;00m\n\u001b[32m   1743\u001b[39m \u001b[38;5;66;03m# this function, and just call forward.\u001b[39;00m\n\u001b[32m   1744\u001b[39m \u001b[38;5;28;01mif\u001b[39;00m \u001b[38;5;129;01mnot\u001b[39;00m (\u001b[38;5;28mself\u001b[39m._backward_hooks \u001b[38;5;129;01mor\u001b[39;00m \u001b[38;5;28mself\u001b[39m._backward_pre_hooks \u001b[38;5;129;01mor\u001b[39;00m \u001b[38;5;28mself\u001b[39m._forward_hooks \u001b[38;5;129;01mor\u001b[39;00m \u001b[38;5;28mself\u001b[39m._forward_pre_hooks\n\u001b[32m   1745\u001b[39m         \u001b[38;5;129;01mor\u001b[39;00m _global_backward_pre_hooks \u001b[38;5;129;01mor\u001b[39;00m _global_backward_hooks\n\u001b[32m   1746\u001b[39m         \u001b[38;5;129;01mor\u001b[39;00m _global_forward_hooks \u001b[38;5;129;01mor\u001b[39;00m _global_forward_pre_hooks):\n\u001b[32m-> \u001b[39m\u001b[32m1747\u001b[39m     \u001b[38;5;28;01mreturn\u001b[39;00m \u001b[43mforward_call\u001b[49m\u001b[43m(\u001b[49m\u001b[43m*\u001b[49m\u001b[43margs\u001b[49m\u001b[43m,\u001b[49m\u001b[43m \u001b[49m\u001b[43m*\u001b[49m\u001b[43m*\u001b[49m\u001b[43mkwargs\u001b[49m\u001b[43m)\u001b[49m\n\u001b[32m   1749\u001b[39m result = \u001b[38;5;28;01mNone\u001b[39;00m\n\u001b[32m   1750\u001b[39m called_always_called_hooks = \u001b[38;5;28mset\u001b[39m()\n",
      "\u001b[36mFile \u001b[39m\u001b[32m~/git/SemanticNorm/cramBERT/layers.py:100\u001b[39m, in \u001b[36mSemanticPreNormAndAdd.forward\u001b[39m\u001b[34m(self, X, **kwargs)\u001b[39m\n\u001b[32m     98\u001b[39m \u001b[38;5;28;01mif\u001b[39;00m \u001b[38;5;28mself\u001b[39m.training:\n\u001b[32m     99\u001b[39m     x_prelim = \u001b[38;5;28mself\u001b[39m.sublayer(\u001b[38;5;28mself\u001b[39m.norm(X), **kwargs)\n\u001b[32m--> \u001b[39m\u001b[32m100\u001b[39m     entropy = \u001b[38;5;28;43mself\u001b[39;49m\u001b[43m.\u001b[49m\u001b[43msemantic_norm\u001b[49m\u001b[43m(\u001b[49m\u001b[43mx_prelim\u001b[49m\u001b[43m)\u001b[49m\n\u001b[32m    101\u001b[39m     \u001b[38;5;28mprint\u001b[39m(entropy)\n\u001b[32m    102\u001b[39m     entropy.backward(\n\u001b[32m    103\u001b[39m         retain_graph=\u001b[38;5;28;01mTrue\u001b[39;00m, \n\u001b[32m    104\u001b[39m         inputs=\u001b[38;5;28mlist\u001b[39m(\u001b[38;5;28mself\u001b[39m.parameters())\n\u001b[32m    105\u001b[39m     )\n",
      "\u001b[36mFile \u001b[39m\u001b[32m~/git/SemanticNorm/cramBERT/layers.py:119\u001b[39m, in \u001b[36mSemanticPreNormAndAdd.semantic_norm\u001b[39m\u001b[34m(self, x)\u001b[39m\n\u001b[32m    116\u001b[39m \u001b[38;5;66;03m# construct mst (better to rewrite in numba)\u001b[39;00m\n\u001b[32m    117\u001b[39m x_cpu = x.detach().cpu().numpy()\n\u001b[32m--> \u001b[39m\u001b[32m119\u001b[39m index = \u001b[38;5;28;43mself\u001b[39;49m\u001b[43m.\u001b[49m\u001b[43mgraph_clustering\u001b[49m\u001b[43m(\u001b[49m\u001b[43mx_cpu\u001b[49m\u001b[43m)\u001b[49m\n\u001b[32m    121\u001b[39m \u001b[38;5;66;03m# select cluster centroids\u001b[39;00m\n\u001b[32m    122\u001b[39m clust_cent = t_sca.scatter_mean(x, index=index, dim=\u001b[32m0\u001b[39m)\n",
      "\u001b[36mFile \u001b[39m\u001b[32m~/mambaforge/envs/pytorch-arc/lib/python3.11/site-packages/numba/core/dispatcher.py:424\u001b[39m, in \u001b[36m_DispatcherBase._compile_for_args\u001b[39m\u001b[34m(self, *args, **kws)\u001b[39m\n\u001b[32m    420\u001b[39m         msg = (\u001b[33mf\u001b[39m\u001b[33m\"\u001b[39m\u001b[38;5;132;01m{\u001b[39;00m\u001b[38;5;28mstr\u001b[39m(e).rstrip()\u001b[38;5;132;01m}\u001b[39;00m\u001b[33m \u001b[39m\u001b[38;5;130;01m\\n\u001b[39;00m\u001b[38;5;130;01m\\n\u001b[39;00m\u001b[33mThis error may have been caused \u001b[39m\u001b[33m\"\u001b[39m\n\u001b[32m    421\u001b[39m                \u001b[33mf\u001b[39m\u001b[33m\"\u001b[39m\u001b[33mby the following argument(s):\u001b[39m\u001b[38;5;130;01m\\n\u001b[39;00m\u001b[38;5;132;01m{\u001b[39;00margs_str\u001b[38;5;132;01m}\u001b[39;00m\u001b[38;5;130;01m\\n\u001b[39;00m\u001b[33m\"\u001b[39m)\n\u001b[32m    422\u001b[39m         e.patch_message(msg)\n\u001b[32m--> \u001b[39m\u001b[32m424\u001b[39m     \u001b[43merror_rewrite\u001b[49m\u001b[43m(\u001b[49m\u001b[43me\u001b[49m\u001b[43m,\u001b[49m\u001b[43m \u001b[49m\u001b[33;43m'\u001b[39;49m\u001b[33;43mtyping\u001b[39;49m\u001b[33;43m'\u001b[39;49m\u001b[43m)\u001b[49m\n\u001b[32m    425\u001b[39m \u001b[38;5;28;01mexcept\u001b[39;00m errors.UnsupportedError \u001b[38;5;28;01mas\u001b[39;00m e:\n\u001b[32m    426\u001b[39m     \u001b[38;5;66;03m# Something unsupported is present in the user code, add help info\u001b[39;00m\n\u001b[32m    427\u001b[39m     error_rewrite(e, \u001b[33m'\u001b[39m\u001b[33munsupported_error\u001b[39m\u001b[33m'\u001b[39m)\n",
      "\u001b[36mFile \u001b[39m\u001b[32m~/mambaforge/envs/pytorch-arc/lib/python3.11/site-packages/numba/core/dispatcher.py:365\u001b[39m, in \u001b[36m_DispatcherBase._compile_for_args.<locals>.error_rewrite\u001b[39m\u001b[34m(e, issue_type)\u001b[39m\n\u001b[32m    363\u001b[39m     \u001b[38;5;28;01mraise\u001b[39;00m e\n\u001b[32m    364\u001b[39m \u001b[38;5;28;01melse\u001b[39;00m:\n\u001b[32m--> \u001b[39m\u001b[32m365\u001b[39m     \u001b[38;5;28;01mraise\u001b[39;00m e.with_traceback(\u001b[38;5;28;01mNone\u001b[39;00m)\n",
      "\u001b[31mTypingError\u001b[39m: Failed in nopython mode pipeline (step: nopython frontend)\nUntyped global name 'chinese_whispers': Cannot determine Numba type of <class 'function'>\n\nFile \"layers.py\", line 141:\n    def graph_clustering(x_cpu):\n        <source elided>\n        # perform graph clustering\n        chinese_whispers(g, weighting=\"top\", iterations=20)\n        ^\n\nDuring: Pass nopython_type_inference"
     ]
    }
   ],
   "source": [
    "x_new = layer(x)"
   ]
  },
  {
   "cell_type": "code",
   "execution_count": 11,
   "id": "e7270b3a-10ce-40b2-b5a9-cf8441302af2",
   "metadata": {},
   "outputs": [],
   "source": [
    "import numpy as np\n",
    "from IsoScore import IsoScore"
   ]
  },
  {
   "cell_type": "code",
   "execution_count": 14,
   "id": "bb6b50f2-5ad9-452c-9e42-33b9a9120710",
   "metadata": {},
   "outputs": [
    {
     "name": "stdout",
     "output_type": "stream",
     "text": [
      "IsoScore for 100 points sampled from this line in R^3 is 5.541008267033002e-08.\n",
      "IsoScore for 100 points sampled from this disk in R^3 is 0.4624433708043438.\n",
      "IsoScore for 100 points sampled from this ball in R^3 is 0.9206948096489352.\n"
     ]
    }
   ],
   "source": [
    "random_array_1 = np.random.normal(size=100)\n",
    "random_array_2 = np.random.normal(size=100)\n",
    "random_array_3 = np.random.normal(size=100)\n",
    "\n",
    "# Computing the IsoScore for points sampled from a line (dim=1) in R^3\n",
    "point_cloud_line = np.array([random_array_1, np.zeros(100), np.zeros(100)])\n",
    "the_score = IsoScore.IsoScore(point_cloud_line.T)\n",
    "print(f\"IsoScore for 100 points sampled from this line in R^3 is {the_score}.\")\n",
    "\n",
    "# Computing the IsoScore for points sampled from a disk (dim=2) in R^3\n",
    "point_cloud_disk = np.array([random_array_1, random_array_2, np.zeros(100)])\n",
    "the_score = IsoScore.IsoScore(point_cloud_disk.T)\n",
    "print(f\"IsoScore for 100 points sampled from this disk in R^3 is {the_score}.\")\n",
    "\n",
    "# Computing the IsoScore for points sampled from a ball (dim=3) in R^3\n",
    "point_cloud_ball = np.array([random_array_1, random_array_2, random_array_3])\n",
    "the_score = IsoScore.IsoScore(point_cloud_ball.T)\n",
    "print(f\"IsoScore for 100 points sampled from this ball in R^3 is {the_score}.\")"
   ]
  },
  {
   "cell_type": "code",
   "execution_count": null,
   "id": "3805a45b-09ab-461d-808c-cf655acb5bdb",
   "metadata": {},
   "outputs": [],
   "source": []
  },
  {
   "cell_type": "code",
   "execution_count": 18,
   "id": "5ca322ff-f515-4c8c-8096-870862cb75fd",
   "metadata": {},
   "outputs": [
    {
     "data": {
      "text/plain": [
       "Parameter containing:\n",
       "tensor([1.0000, 1.0000, 1.0000, 1.0000, 1.0000, 1.0000, 1.0000, 1.0000, 1.0000,\n",
       "        1.0000, 1.0000, 1.0000, 1.0000, 1.0000, 1.0000, 1.0000, 1.0000, 1.0000,\n",
       "        1.0000, 1.0000, 1.0000, 1.0000, 1.0000, 1.0000, 1.0000, 1.0000, 1.0000,\n",
       "        1.0000, 1.0000, 1.0000], requires_grad=True)"
      ]
     },
     "execution_count": 18,
     "metadata": {},
     "output_type": "execute_result"
    }
   ],
   "source": [
    "layer.norm.scale"
   ]
  },
  {
   "cell_type": "code",
   "execution_count": null,
   "id": "bb90a899-a3a7-467b-bb5d-5eac2f1a3483",
   "metadata": {},
   "outputs": [],
   "source": []
  },
  {
   "cell_type": "code",
   "execution_count": 8,
   "id": "b40ab69e-6b09-4b06-8bdd-badf567134f6",
   "metadata": {},
   "outputs": [
    {
     "data": {
      "text/plain": [
       "[('norm.scale',\n",
       "  Parameter containing:\n",
       "  tensor([1., 1., 1., 1., 1., 1., 1., 1., 1., 1., 1., 1., 1., 1., 1., 1., 1., 1.,\n",
       "          1., 1., 1., 1., 1., 1., 1., 1., 1., 1., 1., 1.], requires_grad=True)),\n",
       " ('sublayer.fc1.weight',\n",
       "  Parameter containing:\n",
       "  tensor([[-0.0500,  0.1046, -0.0957,  ...,  0.1744, -0.0959,  0.0774],\n",
       "          [-0.1638, -0.1414, -0.1231,  ...,  0.0512, -0.0753,  0.1601],\n",
       "          [ 0.0732, -0.0141, -0.1126,  ...,  0.1124,  0.1657, -0.0979],\n",
       "          ...,\n",
       "          [ 0.1477, -0.0030, -0.0617,  ..., -0.0569,  0.1092,  0.0868],\n",
       "          [ 0.1759, -0.0555, -0.0541,  ...,  0.1131,  0.0026,  0.0683],\n",
       "          [ 0.0656,  0.1302, -0.0038,  ...,  0.0710, -0.1157, -0.0055]],\n",
       "         requires_grad=True)),\n",
       " ('sublayer.fc2.weight',\n",
       "  Parameter containing:\n",
       "  tensor([[-0.0343, -0.0668, -0.0583,  ..., -0.0422,  0.0817, -0.0837],\n",
       "          [-0.0942,  0.1229, -0.0096,  ..., -0.0595,  0.1060,  0.1207],\n",
       "          [-0.0469, -0.0725, -0.0229,  ...,  0.0800, -0.0089,  0.1198],\n",
       "          ...,\n",
       "          [-0.0240, -0.0271,  0.1267,  ...,  0.1355,  0.0230,  0.0593],\n",
       "          [-0.1002, -0.0429,  0.0741,  ..., -0.1413,  0.0540,  0.0879],\n",
       "          [ 0.0625, -0.0254,  0.0250,  ..., -0.0130, -0.1079,  0.0533]],\n",
       "         requires_grad=True))]"
      ]
     },
     "execution_count": 8,
     "metadata": {},
     "output_type": "execute_result"
    }
   ],
   "source": [
    "[*layer.named_parameters()]"
   ]
  },
  {
   "cell_type": "code",
   "execution_count": null,
   "id": "2ad9ec1a-1339-46b9-9814-fdc8fe050fbd",
   "metadata": {},
   "outputs": [],
   "source": []
  },
  {
   "cell_type": "code",
   "execution_count": 23,
   "id": "2cfbddea-ca88-4173-af63-2e04d104e417",
   "metadata": {},
   "outputs": [
    {
     "name": "stdout",
     "output_type": "stream",
     "text": [
      "Using device: xpu\n",
      "Approximate MST adjacency matrix:\n",
      "tensor([[0., 0., 0.,  ..., 0., 0., 0.],\n",
      "        [0., 0., 0.,  ..., 0., 0., 0.],\n",
      "        [0., 0., 0.,  ..., 0., 0., 0.],\n",
      "        ...,\n",
      "        [0., 0., 0.,  ..., 0., 0., 0.],\n",
      "        [0., 0., 0.,  ..., 0., 0., 0.],\n",
      "        [0., 0., 0.,  ..., 0., 0., 0.]], device='xpu:0')\n"
     ]
    },
    {
     "data": {
      "image/png": "[encoded data removed]",
      "text/plain": [
       "<Figure size 640x480 with 1 Axes>"
      ]
     },
     "metadata": {},
     "output_type": "display_data"
    }
   ],
   "source": [
    "import heapq\n",
    "\n",
    "def approximate_mst_gpu(adj_matrix, num_vertices_to_keep=None):\n",
    "    \"\"\"\n",
    "    GPU-accelerated approximate Minimum Spanning Tree (MST) algorithm using Prim's algorithm.\n",
    "\n",
    "    This implementation prioritizes speed and memory efficiency over strict optimality,\n",
    "    making it suitable for large graphs.  It provides an approximate MST by selecting\n",
    "    a subset of vertices to keep in the MST, effectively pruning less important edges.\n",
    "\n",
    "    Args:\n",
    "        adj_matrix (torch.Tensor): Adjacency matrix of the graph (sparse or dense). Must be on the GPU.\n",
    "                                    Shape: (num_nodes, num_nodes)\n",
    "        num_vertices_to_keep (int, optional):  The number of vertices to keep in the approximate MST.\n",
    "                                              If None, a full MST is computed (may be slow for large graphs).\n",
    "                                              If specified, the algorithm will stop when the MST contains this\n",
    "                                              many vertices.  A smaller value results in a faster, but less\n",
    "                                              accurate, approximation.  Must be greater than 0.\n",
    "\n",
    "    Returns:\n",
    "        torch.Tensor: Adjacency matrix of the approximate MST.  Shape: (num_nodes, num_nodes)\n",
    "                      The MST will only contain the edges that connect the vertices included in the MST.\n",
    "    \"\"\"\n",
    "\n",
    "    device = adj_matrix.device\n",
    "    num_nodes = adj_matrix.size(0)\n",
    "\n",
    "    if num_vertices_to_keep is None:\n",
    "        num_vertices_to_keep = num_nodes  # Compute full MST if not specified\n",
    "\n",
    "    if num_vertices_to_keep <= 0:\n",
    "        raise ValueError(\"num_vertices_to_keep must be greater than 0\")\n",
    "\n",
    "    mst_vertices = torch.zeros(num_nodes, dtype=torch.bool, device=device)\n",
    "    mst_edges = torch.zeros_like(adj_matrix, dtype=torch.bool, device=device)  # Use boolean for efficiency\n",
    "    mst_adj_matrix = torch.zeros_like(adj_matrix, device=device)\n",
    "\n",
    "    # Start with an arbitrary vertex (e.g., the first one)\n",
    "    start_vertex = 0\n",
    "    mst_vertices[start_vertex] = True\n",
    "    num_vertices_in_mst = 1\n",
    "\n",
    "    # Priority queue (min-heap) to store edges crossing the MST boundary\n",
    "    # (weight, vertex_u, vertex_v)\n",
    "    priority_queue = []\n",
    "\n",
    "    # Add edges from the starting vertex to the priority queue\n",
    "    for v in range(num_nodes):\n",
    "        if v != start_vertex:\n",
    "            weight = adj_matrix[start_vertex, v]\n",
    "            if weight > 0: # Only add valid edges\n",
    "                heapq.heappush(priority_queue, (float(-weight), start_vertex, v)) # Prim's uses *min* heap\n",
    "\n",
    "    while priority_queue and num_vertices_in_mst < num_vertices_to_keep:\n",
    "        # Get the edge with the minimum weight\n",
    "        weight, u, v = heapq.heappop(priority_queue)\n",
    "        weight = -weight # Restore the original weight\n",
    "\n",
    "        # Check if the destination vertex is already in the MST\n",
    "        if not mst_vertices[v]:\n",
    "            # Add the vertex and edge to the MST\n",
    "            mst_vertices[v] = True\n",
    "            mst_edges[u, v] = True\n",
    "            mst_edges[v, u] = True # Ensure symmetry\n",
    "            mst_adj_matrix[u, v] = weight\n",
    "            mst_adj_matrix[v, u] = weight\n",
    "            num_vertices_in_mst += 1\n",
    "            \n",
    "            # Add new edges from the newly added vertex to the priority queue\n",
    "            for w in range(num_nodes):\n",
    "                if w != v and not mst_vertices[w]:\n",
    "                    weight = adj_matrix[v, w]\n",
    "                    if weight > 0: # Only add valid edges\n",
    "                        heapq.heappush(priority_queue, (float(-weight), v, w)) # Prim's uses min heap\n",
    "\n",
    "    # Return the adjacency matrix of the MST\n",
    "    return mst_adj_matrix\n",
    "\n",
    "if __name__ == '__main__':\n",
    "    # Example Usage (on GPU)\n",
    "    device = torch.device(\"xpu\" if torch.xpu.is_available() else \"cpu\")\n",
    "    print(f\"Using device: {device}\")\n",
    "\n",
    "    # Create a sample adjacency matrix (replace with your actual data)\n",
    "    num_nodes = 100\n",
    "    adj_matrix = torch.rand((num_nodes, num_nodes), device=device)\n",
    "    adj_matrix = (adj_matrix + adj_matrix.T) / 2  # Make it symmetric\n",
    "    adj_matrix.fill_diagonal_(0.0)\n",
    "    adj_matrix = (adj_matrix > 0.5) * adj_matrix # make it more sparse, keep weights\n",
    "\n",
    "    # Run Approximate MST\n",
    "    num_vertices_to_keep = None # Keep only 50 vertices in the MST\n",
    "    mst_adj_matrix = approximate_mst_gpu(adj_matrix, num_vertices_to_keep=num_vertices_to_keep)\n",
    "\n",
    "    print(\"Approximate MST adjacency matrix:\")\n",
    "    print(mst_adj_matrix)\n",
    "\n",
    "    # Optional: Visualize the MST (using matplotlib or networkx)\n",
    "    # requires conversion to numpy first\n",
    "    import matplotlib.pyplot as plt\n",
    "    import networkx as nx\n",
    "    mst_graph = nx.from_numpy_array(mst_adj_matrix.cpu().numpy())\n",
    "    nx.draw(mst_graph, with_labels=False, node_size=10)\n",
    "    plt.show()"
   ]
  },
  {
   "cell_type": "code",
   "execution_count": null,
   "id": "c3a83084-4c6d-46b6-86a4-0e03baab222f",
   "metadata": {},
   "outputs": [],
   "source": []
  }
 ],
 "metadata": {
  "kernelspec": {
   "display_name": "Python 3 (ipykernel)",
   "language": "python",
   "name": "python3"
  },
  "language_info": {
   "codemirror_mode": {
    "name": "ipython",
    "version": 3
   },
   "file_extension": ".py",
   "mimetype": "text/x-python",
   "name": "python",
   "nbconvert_exporter": "python",
   "pygments_lexer": "ipython3",
   "version": "3.11.11"
  }
 },
 "nbformat": 4,
 "nbformat_minor": 5
}
